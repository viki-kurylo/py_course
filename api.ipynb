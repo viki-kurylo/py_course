{
 "cells": [
  {
   "cell_type": "code",
   "execution_count": 19,
   "metadata": {},
   "outputs": [],
   "source": [
    "import requests"
   ]
  },
  {
   "cell_type": "code",
   "execution_count": 20,
   "metadata": {},
   "outputs": [],
   "source": [
    "searchtag = input()\n",
    "images = 5"
   ]
  },
  {
   "cell_type": "code",
   "execution_count": null,
   "metadata": {},
   "outputs": [],
   "source": [
    "url = \"https://api.giphy.com/v1/gifs/search\"\n",
    "querystring = {\"api_key\":\"l1JwJxvrqNVyHxmNHE61xgmHz1V4IpSx\",\"q\":searchtag,\"limit\":images,\"offset\":\"0\"}\n",
    "response = requests.request(\"GET\", url, params=querystring)"
   ]
  },
  {
   "cell_type": "code",
   "execution_count": 18,
   "metadata": {},
   "outputs": [
    {
     "name": "stdout",
     "output_type": "stream",
     "text": [
      "https://giphy.com/gifs/cat-smoke-smoking-3o6Zt481isNVuQI1l6\n",
      "https://giphy.com/gifs/cat-humour-funny-ICOgUNjpvO0PC\n",
      "https://giphy.com/gifs/cat-kisses-hugs-MDJ9IbxxvDUQM\n",
      "https://giphy.com/gifs/emote-catjam-jpbnoe3UIa8TU8LM13\n",
      "https://giphy.com/gifs/cat-chibird-sending-virtual-love-PcEHGN6WvTO2ekGICI\n"
     ]
    }
   ],
   "source": [
    "for i in range(0, images):\n",
    "    print(response.json()['data'][i]['url'])"
   ]
  },
  {
   "cell_type": "code",
   "execution_count": null,
   "metadata": {},
   "outputs": [],
   "source": []
  }
 ],
 "metadata": {
  "kernelspec": {
   "display_name": "base",
   "language": "python",
   "name": "python3"
  },
  "language_info": {
   "codemirror_mode": {
    "name": "ipython",
    "version": 3
   },
   "file_extension": ".py",
   "mimetype": "text/x-python",
   "name": "python",
   "nbconvert_exporter": "python",
   "pygments_lexer": "ipython3",
   "version": "3.10.9"
  },
  "orig_nbformat": 4
 },
 "nbformat": 4,
 "nbformat_minor": 2
}
