{
 "cells": [
  {
   "attachments": {},
   "cell_type": "markdown",
   "metadata": {},
   "source": [
    "# Task 1"
   ]
  },
  {
   "cell_type": "code",
   "execution_count": 59,
   "metadata": {},
   "outputs": [],
   "source": [
    "def is_admin(func):\n",
    "    def wrapper(user_type):\n",
    "        if user_type == 'admin':\n",
    "            return func(user_type)\n",
    "        else:\n",
    "            return 'ValueError: Permission denied'\n",
    "    return wrapper  \n"
   ]
  },
  {
   "cell_type": "code",
   "execution_count": 60,
   "metadata": {},
   "outputs": [],
   "source": [
    "@is_admin\n",
    "def show_customer_receipt(user_type: str):\n",
    "    return 'Very private information.'"
   ]
  },
  {
   "cell_type": "code",
   "execution_count": 61,
   "metadata": {},
   "outputs": [
    {
     "data": {
      "text/plain": [
       "'ValueError: Permission denied'"
      ]
     },
     "execution_count": 61,
     "metadata": {},
     "output_type": "execute_result"
    }
   ],
   "source": [
    "show_customer_receipt('user')"
   ]
  },
  {
   "attachments": {},
   "cell_type": "markdown",
   "metadata": {},
   "source": [
    "# Task 2"
   ]
  },
  {
   "cell_type": "code",
   "execution_count": 52,
   "metadata": {},
   "outputs": [],
   "source": [
    "data = {'key': 'bar'}"
   ]
  },
  {
   "cell_type": "code",
   "execution_count": 146,
   "metadata": {},
   "outputs": [],
   "source": [
    "def catch_errors(func):\n",
    "    def wrapper(user_input):\n",
    "        try:\n",
    "            return func(user_input)\n",
    "        except Exception as e:\n",
    "            print('Found 1 error during execution of your function:',type(e).__name__,e)\n",
    "    return wrapper"
   ]
  },
  {
   "cell_type": "code",
   "execution_count": 147,
   "metadata": {},
   "outputs": [],
   "source": [
    "@catch_errors\n",
    "def some_function_with_risky_operation(user_input):\n",
    "    print(data[user_input])\n"
   ]
  },
  {
   "cell_type": "code",
   "execution_count": 148,
   "metadata": {},
   "outputs": [
    {
     "name": "stdout",
     "output_type": "stream",
     "text": [
      "Found 1 error during execution of your function: KeyError 'foo'\n"
     ]
    }
   ],
   "source": [
    "user_input = 'foo'\n",
    "some_function_with_risky_operation(user_input)"
   ]
  },
  {
   "attachments": {},
   "cell_type": "markdown",
   "metadata": {},
   "source": [
    "# Task 3"
   ]
  },
  {
   "cell_type": "code",
   "execution_count": 140,
   "metadata": {},
   "outputs": [],
   "source": [
    "def check_types(func):\n",
    "    def wrapper(*args,**kwargs):\n",
    "        if not all(isinstance(num, int) for num in args+tuple(kwargs.values())):\n",
    "            return 'TypeError: Argument a must be int, not str'\n",
    "        else:\n",
    "            output = func(*args,**kwargs)\n",
    "            if isinstance(output, int):\n",
    "                return output\n",
    "    return wrapper"
   ]
  },
  {
   "cell_type": "code",
   "execution_count": 142,
   "metadata": {},
   "outputs": [
    {
     "data": {
      "text/plain": [
       "'TypeError: Argument a must be int, not str'"
      ]
     },
     "execution_count": 142,
     "metadata": {},
     "output_type": "execute_result"
    }
   ],
   "source": [
    "@check_types\n",
    "def add(a: int, b: int) -> int:\n",
    "    return a + b\n",
    "add('1', 2)"
   ]
  },
  {
   "attachments": {},
   "cell_type": "markdown",
   "metadata": {},
   "source": [
    "# Task 4"
   ]
  },
  {
   "attachments": {},
   "cell_type": "markdown",
   "metadata": {},
   "source": [
    "Create a function that caches the result of a function, so that if it is called with the same argument multiple times, it returns the cached result first instead of re-executing the function."
   ]
  },
  {
   "cell_type": "code",
   "execution_count": 222,
   "metadata": {},
   "outputs": [],
   "source": [
    "my_memory = {}\n",
    "def save(function):\n",
    "  def wrapper(*args,**kwargs):\n",
    "    if (args+tuple(kwargs)) in my_memory:\n",
    "      return my_memory[args+tuple(kwargs)]\n",
    "    else:\n",
    "      new_result = function(*args,**kwargs)\n",
    "      my_memory[args+tuple(kwargs)] = new_result\n",
    "      return new_result\n",
    "  return wrapper"
   ]
  },
  {
   "cell_type": "code",
   "execution_count": 223,
   "metadata": {},
   "outputs": [
    {
     "data": {
      "text/plain": [
       "False"
      ]
     },
     "execution_count": 223,
     "metadata": {},
     "output_type": "execute_result"
    }
   ],
   "source": [
    "@save\n",
    "def my_check(a,b,c=5):\n",
    "    if a+b+c> 10:\n",
    "        return True\n",
    "    else:\n",
    "        return False\n",
    "my_check(0, 3)"
   ]
  },
  {
   "cell_type": "code",
   "execution_count": 224,
   "metadata": {},
   "outputs": [],
   "source": [
    "for i in range(0,15):\n",
    "    my_check(i, 3)"
   ]
  },
  {
   "cell_type": "code",
   "execution_count": 225,
   "metadata": {},
   "outputs": [
    {
     "data": {
      "text/plain": [
       "{(0, 3): False,\n",
       " (1, 3): False,\n",
       " (2, 3): False,\n",
       " (3, 3): True,\n",
       " (4, 3): True,\n",
       " (5, 3): True,\n",
       " (6, 3): True,\n",
       " (7, 3): True,\n",
       " (8, 3): True,\n",
       " (9, 3): True,\n",
       " (10, 3): True,\n",
       " (11, 3): True,\n",
       " (12, 3): True,\n",
       " (13, 3): True,\n",
       " (14, 3): True}"
      ]
     },
     "execution_count": 225,
     "metadata": {},
     "output_type": "execute_result"
    }
   ],
   "source": [
    "my_memory\n"
   ]
  }
 ],
 "metadata": {
  "kernelspec": {
   "display_name": "base",
   "language": "python",
   "name": "python3"
  },
  "language_info": {
   "codemirror_mode": {
    "name": "ipython",
    "version": 3
   },
   "file_extension": ".py",
   "mimetype": "text/x-python",
   "name": "python",
   "nbconvert_exporter": "python",
   "pygments_lexer": "ipython3",
   "version": "3.10.9"
  },
  "orig_nbformat": 4
 },
 "nbformat": 4,
 "nbformat_minor": 2
}
